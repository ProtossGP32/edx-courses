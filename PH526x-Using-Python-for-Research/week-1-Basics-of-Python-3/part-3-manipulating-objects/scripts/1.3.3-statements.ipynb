{
 "cells": [
  {
   "cell_type": "markdown",
   "metadata": {},
   "source": [
    "# Statements"
   ]
  },
  {
   "cell_type": "code",
   "execution_count": null,
   "metadata": {},
   "outputs": [],
   "source": [
    "# Example - Statement with one clause\n",
    "x = 30\n",
    "y = 10\n",
    "# Start of the statement\n",
    "if x > y:\n",
    "  difference = x - y\n",
    "  print(\"x is greater than y\")\n",
    "\n",
    "# Outside of the statement again\n",
    "print(\"But this gets printed no matter what!\")"
   ]
  },
  {
   "cell_type": "code",
   "execution_count": null,
   "metadata": {},
   "outputs": [],
   "source": [
    "# If-else stateme\n",
    "test = True\n",
    "\n",
    "if test:\n",
    "  print(\"This is a test\")\n",
    "elif not test:\n",
    "  print(\"This is not a test\")\n",
    "else:\n",
    "  # This should never be reached as test is allegedly a boolean, but as Python is a dynamically typed language, its value can be whatever the user wants\n",
    "  print(\"I don't know what this is!\")"
   ]
  },
  {
   "cell_type": "code",
   "execution_count": null,
   "metadata": {},
   "outputs": [],
   "source": [
    "# Another if-else statement\n",
    "if x > y:\n",
    "  absval = x - y\n",
    "elif y > x:\n",
    "  absval = y - x\n",
    "else:\n",
    "  absval = 0\n",
    "\n",
    "absval"
   ]
  },
  {
   "cell_type": "markdown",
   "metadata": {},
   "source": [
    "## Comprehension Checks"
   ]
  },
  {
   "cell_type": "code",
   "execution_count": null,
   "metadata": {},
   "outputs": [],
   "source": [
    "# Question 1\n",
    "if False:\n",
    "    print(\"False!\")\n",
    "elif True:\n",
    "    print(\"Now True!\")\n",
    "else:\n",
    "    print(\"Finally True!\")"
   ]
  },
  {
   "cell_type": "code",
   "execution_count": null,
   "metadata": {},
   "outputs": [],
   "source": [
    "# Question 2\n",
    "n = 4\n",
    "if n%2 == 0:\n",
    "    print(\"even\")\n",
    "else:\n",
    "    print(\"odd\")"
   ]
  },
  {
   "cell_type": "code",
   "execution_count": null,
   "metadata": {},
   "outputs": [],
   "source": []
  }
 ],
 "metadata": {
  "kernelspec": {
   "display_name": "Python 3",
   "language": "python",
   "name": "python3"
  },
  "language_info": {
   "codemirror_mode": {
    "name": "ipython",
    "version": 3
   },
   "file_extension": ".py",
   "mimetype": "text/x-python",
   "name": "python",
   "nbconvert_exporter": "python",
   "pygments_lexer": "ipython3",
   "version": "3.12.1"
  }
 },
 "nbformat": 4,
 "nbformat_minor": 2
}
