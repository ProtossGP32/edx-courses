{
 "cells": [
  {
   "cell_type": "markdown",
   "metadata": {},
   "source": [
    "# Writing Simple Functions"
   ]
  },
  {
   "cell_type": "code",
   "execution_count": null,
   "metadata": {},
   "outputs": [],
   "source": [
    "# Create simple functions\n",
    "def intersect(s1, s2):\n",
    "  res = []\n",
    "  for x in s1:\n",
    "    if x in s2:\n",
    "      res.append(x)\n",
    "  return res"
   ]
  },
  {
   "cell_type": "code",
   "execution_count": null,
   "metadata": {},
   "outputs": [],
   "source": [
    "# Try it\n",
    "intersect([1,2,3,4,5], [3,4,5,6,7,8])"
   ]
  },
  {
   "cell_type": "code",
   "execution_count": null,
   "metadata": {},
   "outputs": [],
   "source": [
    "# Password generator\n",
    "import random\n",
    "\n",
    "# - We'll define the length of the password\n",
    "def password(length):\n",
    "  pw = str()\n",
    "  # Define the characters to use\n",
    "  characters = \"abcdefghijklmn\" + \"0123456789\" + \"@#!_\"\n",
    "  for i in range(length):\n",
    "    pw += random.choice(characters)\n",
    "\n",
    "  return pw"
   ]
  },
  {
   "cell_type": "code",
   "execution_count": null,
   "metadata": {},
   "outputs": [],
   "source": [
    "# Try it\n",
    "password(15)"
   ]
  },
  {
   "cell_type": "markdown",
   "metadata": {},
   "source": [
    "## Comprehension Check"
   ]
  },
  {
   "cell_type": "code",
   "execution_count": null,
   "metadata": {},
   "outputs": [],
   "source": [
    "# Question 1\n",
    "intersect([1,2,3], [3,4,5,6,7])"
   ]
  },
  {
   "cell_type": "code",
   "execution_count": null,
   "metadata": {},
   "outputs": [],
   "source": [
    "# Question 2\n",
    "# Consider the following letters as vowels: 'aeiouy'\n",
    "def is_vowel(letter):\n",
    "  if letter in \"aeiouy\":\n",
    "    return(True)\n",
    "  else:\n",
    "    return(False)\n",
    "  \n",
    "print(is_vowel(\"a\"))\n",
    "print(is_vowel(\"b\"))"
   ]
  },
  {
   "cell_type": "code",
   "execution_count": null,
   "metadata": {},
   "outputs": [],
   "source": [
    "# Question 3\n",
    "is_vowel(4)"
   ]
  },
  {
   "cell_type": "code",
   "execution_count": null,
   "metadata": {},
   "outputs": [],
   "source": [
    "# Question 4\n",
    "def is_vowel(letter):\n",
    "  if type(letter) == int:\n",
    "    letter = str(letter)\n",
    "  if letter in \"aeiouy\":\n",
    "    return(True)\n",
    "  else:\n",
    "    return(False)\n",
    "\n",
    "is_vowel(4)"
   ]
  },
  {
   "cell_type": "code",
   "execution_count": null,
   "metadata": {},
   "outputs": [],
   "source": [
    "# Question 5\n",
    "# Fill the blank space\n",
    "def factorial(n):\n",
    "  if n == 0:\n",
    "    return 1\n",
    "  else:\n",
    "    N = 1\n",
    "    for i in range(1, n+1):\n",
    "      N *= i\n",
    "    return(N)"
   ]
  },
  {
   "cell_type": "code",
   "execution_count": null,
   "metadata": {},
   "outputs": [],
   "source": [
    "factorial(3)"
   ]
  }
 ],
 "metadata": {
  "kernelspec": {
   "display_name": "Python 3",
   "language": "python",
   "name": "python3"
  },
  "language_info": {
   "codemirror_mode": {
    "name": "ipython",
    "version": 3
   },
   "file_extension": ".py",
   "mimetype": "text/x-python",
   "name": "python",
   "nbconvert_exporter": "python",
   "pygments_lexer": "ipython3",
   "version": "3.12.1"
  }
 },
 "nbformat": 4,
 "nbformat_minor": 2
}
