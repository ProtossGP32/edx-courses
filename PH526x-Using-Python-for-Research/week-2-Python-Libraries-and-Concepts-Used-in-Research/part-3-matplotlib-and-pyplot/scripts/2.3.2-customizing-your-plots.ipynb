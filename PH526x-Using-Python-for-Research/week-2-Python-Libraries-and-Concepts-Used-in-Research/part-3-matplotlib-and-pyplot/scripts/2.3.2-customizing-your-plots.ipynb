{
 "cells": [
  {
   "cell_type": "markdown",
   "metadata": {},
   "source": [
    "# Customizing your plots\n",
    "\n",
    "Let's work with the previous part plots:"
   ]
  },
  {
   "cell_type": "code",
   "execution_count": null,
   "metadata": {},
   "outputs": [],
   "source": [
    "import matplotlib.pyplot as plt\n",
    "# Import Numpy and create vectors for each points' coordinates\n",
    "import numpy as np\n",
    "# X: 20 Linearly spaced points from 0 to 10\n",
    "x = np.linspace(0, 10, 20)\n",
    "# Y: each X point raised to power 2\n",
    "y1 = x ** 2.0\n",
    "# Let's define a second list of Y points to plot a different graph\n",
    "y2 = x**1.5"
   ]
  },
  {
   "cell_type": "markdown",
   "metadata": {},
   "source": [
    "All arguments of a plot must be provided at ones, so we'll be configuring additional arguments in advance, like the labels for legends:"
   ]
  },
  {
   "cell_type": "code",
   "execution_count": null,
   "metadata": {},
   "outputs": [],
   "source": [
    "# First plot\n",
    "# - Give labels to each plot for the legend\n",
    "plt.plot(x, y1, \"bo-\", linewidth=2, markersize=4, label=\"First\");\n",
    "# Second plot\n",
    "plt.plot(x, y2, \"gs-\", linewidth=2, markersize=4, label=\"Second\");\n",
    "# Let's now customize it:\n",
    "# - Define the label's values using LaTeX syntax for a better appearance\n",
    "plt.xlabel(\"$X$\")\n",
    "plt.ylabel(\"$Y$\")\n",
    "# - Adjust the axes ranges (the input argument is a list of Xmin, Xmax, Ymin and Ymax values)\n",
    "plt.axis([-0.5, 10.5, -5, 105])\n",
    "# - Show the legend and customize its position by using the keyword argument 'loc'\n",
    "plt.legend(loc=\"upper left\")\n",
    "# - Finally, save the figure to a file\n",
    "# - Import 'os' and make sure that the path exists or create it if not\n",
    "import os\n",
    "os.makedirs(\"outputs\", exist_ok=True)\n",
    "plt.savefig(\"outputs/myplot.pdf\")\n"
   ]
  }
 ],
 "metadata": {
  "kernelspec": {
   "display_name": "Python 3",
   "language": "python",
   "name": "python3"
  },
  "language_info": {
   "codemirror_mode": {
    "name": "ipython",
    "version": 3
   },
   "file_extension": ".py",
   "mimetype": "text/x-python",
   "name": "python",
   "nbconvert_exporter": "python",
   "pygments_lexer": "ipython3",
   "version": "3.12.1"
  }
 },
 "nbformat": 4,
 "nbformat_minor": 2
}
