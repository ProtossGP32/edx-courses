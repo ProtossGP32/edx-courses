{
 "cells": [
  {
   "cell_type": "markdown",
   "metadata": {},
   "source": [
    "# Introduction to Matplotlib and Pyplot"
   ]
  },
  {
   "cell_type": "markdown",
   "metadata": {},
   "source": [
    "# Importing Pyplot"
   ]
  },
  {
   "cell_type": "code",
   "execution_count": null,
   "metadata": {},
   "outputs": [],
   "source": [
    "# Pyplot is generally imported as `plt`\n",
    "import matplotlib.pyplot as plt"
   ]
  },
  {
   "cell_type": "markdown",
   "metadata": {},
   "source": [
    "## Using the `plot` function\n",
    "\n",
    "The `plot` function accepts sequence objects as well as Numpy arrays. If we pass a 1-dimensional array of values, `plot` treats them as the `Y` values for its respective index `X` values:"
   ]
  },
  {
   "cell_type": "code",
   "execution_count": null,
   "metadata": {},
   "outputs": [],
   "source": [
    "# Create a simple plot by passing a list of values to the plot. Each value will be represented taking its list index as the X position\n",
    "plt.plot([0, 1, 4, 9, 16])"
   ]
  },
  {
   "cell_type": "markdown",
   "metadata": {},
   "source": [
    "Running the same command with a semicolon at the end suppresses the returned Matplotlib object:"
   ]
  },
  {
   "cell_type": "code",
   "execution_count": null,
   "metadata": {},
   "outputs": [],
   "source": [
    "plt.plot([0, 1, 4, 9, 16]);"
   ]
  },
  {
   "cell_type": "markdown",
   "metadata": {},
   "source": [
    "## Passing multiple arguments to Pyplot\n",
    "\n",
    "We can create Numpy vectors to the plot as well:"
   ]
  },
  {
   "cell_type": "code",
   "execution_count": null,
   "metadata": {},
   "outputs": [],
   "source": [
    "# Import Numpy and create vectors for each points' coordinates\n",
    "import numpy as np\n",
    "# X: 20 Linearly spaced points from 0 to 10\n",
    "x = np.linspace(0, 10, 20)\n",
    "# Y: each X point raised to power 2\n",
    "y = x ** 2.0"
   ]
  },
  {
   "cell_type": "code",
   "execution_count": null,
   "metadata": {},
   "outputs": [],
   "source": [
    "# Check each value\n",
    "x"
   ]
  },
  {
   "cell_type": "code",
   "execution_count": null,
   "metadata": {},
   "outputs": [],
   "source": [
    "y"
   ]
  },
  {
   "cell_type": "code",
   "execution_count": null,
   "metadata": {},
   "outputs": [],
   "source": [
    "# Pass the X and Y vectors as plot arguments\n",
    "plt.plot(x, y);"
   ]
  },
  {
   "cell_type": "markdown",
   "metadata": {},
   "source": [
    "### Using keyword arguments\n",
    "\n",
    "Keyword arguments are used to customize the plot appearance and adjust some of their characteristics:"
   ]
  },
  {
   "cell_type": "code",
   "execution_count": null,
   "metadata": {},
   "outputs": [],
   "source": [
    "# Let's define a second list of Y points to plot a different graph\n",
    "y2 = x**1.5"
   ]
  },
  {
   "cell_type": "code",
   "execution_count": null,
   "metadata": {},
   "outputs": [],
   "source": [
    "# Call the plot function with the previous values, but now adjust the appearance of the plot\n",
    "# - 'bo-': this third value configures the 'y' points to be 'b'lue, 'o' circles and '-' solid line\n",
    "plt.plot(x, y, \"bo-\");"
   ]
  },
  {
   "cell_type": "code",
   "execution_count": null,
   "metadata": {},
   "outputs": [],
   "source": [
    "# With keyword arguments we can modify the 'linewidth' and 'markersize' of the points\n",
    "plt.plot(x, y, \"bo-\", linewidth=2, markersize=4);"
   ]
  },
  {
   "cell_type": "code",
   "execution_count": null,
   "metadata": {},
   "outputs": [],
   "source": [
    "# We can print the plot for the second series of values with different color and shape\n",
    "# - 'gs-': 'g'reen and 's'quare shapes\n",
    "plt.plot(x, y2, \"gs-\", linewidth=2, markersize=4);"
   ]
  },
  {
   "cell_type": "code",
   "execution_count": null,
   "metadata": {},
   "outputs": [],
   "source": [
    "# We can plot multiple series of values in the same figure if they are defined in the same cell\n",
    "# - In interactive mode this doesn't apply as the code is already a single block\n",
    "# First plot\n",
    "plt.plot(x, y1, \"bo-\", linewidth=2, markersize=4);\n",
    "# Second plot\n",
    "plt.plot(x, y2, \"gs-\", linewidth=2, markersize=4);"
   ]
  },
  {
   "cell_type": "markdown",
   "metadata": {},
   "source": [
    "## Comprehension Check"
   ]
  },
  {
   "cell_type": "code",
   "execution_count": null,
   "metadata": {},
   "outputs": [],
   "source": [
    "# Question 2\n",
    "plt.plot([0,1,2],[0,1,4],\"rd-\");"
   ]
  },
  {
   "cell_type": "code",
   "execution_count": null,
   "metadata": {},
   "outputs": [],
   "source": []
  }
 ],
 "metadata": {
  "kernelspec": {
   "display_name": "Python 3",
   "language": "python",
   "name": "python3"
  },
  "language_info": {
   "codemirror_mode": {
    "name": "ipython",
    "version": 3
   },
   "file_extension": ".py",
   "mimetype": "text/x-python",
   "name": "python",
   "nbconvert_exporter": "python",
   "pygments_lexer": "ipython3",
   "version": "3.12.1"
  }
 },
 "nbformat": 4,
 "nbformat_minor": 2
}
