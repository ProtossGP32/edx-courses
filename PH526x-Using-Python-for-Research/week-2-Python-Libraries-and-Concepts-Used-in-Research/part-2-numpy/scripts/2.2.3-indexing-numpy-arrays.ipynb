{
 "cells": [
  {
   "cell_type": "markdown",
   "metadata": {},
   "source": [
    "# Indexing NumPy Arrays"
   ]
  },
  {
   "cell_type": "markdown",
   "metadata": {},
   "source": [
    "Let's take a look at few array indexing examples"
   ]
  },
  {
   "cell_type": "code",
   "execution_count": null,
   "metadata": {},
   "outputs": [],
   "source": [
    "import numpy as np\n",
    "\n",
    "# Define our example arrays\n",
    "z1 = np.array([1, 3, 5, 7, 9])"
   ]
  },
  {
   "cell_type": "code",
   "execution_count": null,
   "metadata": {},
   "outputs": [],
   "source": [
    "# We can define new arrays by referencing already existing ones\n",
    "z2 = z1 + 1\n",
    "z2"
   ]
  },
  {
   "cell_type": "code",
   "execution_count": null,
   "metadata": {},
   "outputs": [],
   "source": [
    "# We can use a list called 'ind' to index our arrays and see their contents\n",
    "ind = [0, 2, 3]\n",
    "print(z1[ind])\n",
    "print(z2[ind])\n"
   ]
  },
  {
   "cell_type": "code",
   "execution_count": null,
   "metadata": {},
   "outputs": [],
   "source": [
    "# The same can be done with NumPy arrays for indexing\n",
    "np_ind = np.array(ind)\n",
    "print(z1[np_ind])\n",
    "print(z2[np_ind])"
   ]
  },
  {
   "cell_type": "code",
   "execution_count": null,
   "metadata": {},
   "outputs": [],
   "source": [
    "# Create a boolean (or logical) array based on conditions applied to each NumPy array value\n",
    "z1 > 6"
   ]
  },
  {
   "cell_type": "code",
   "execution_count": null,
   "metadata": {},
   "outputs": [],
   "source": [
    "# Logical arrays can be used to index another vector\n",
    "z1[z1 > 6]"
   ]
  },
  {
   "cell_type": "code",
   "execution_count": null,
   "metadata": {},
   "outputs": [],
   "source": [
    "# As the logical array is a NumPy array, it can be used to access elements from other NumPy arrays as well\n",
    "# - Although both must be of the same size!\n",
    "z2[z1 > 6]"
   ]
  },
  {
   "cell_type": "code",
   "execution_count": null,
   "metadata": {},
   "outputs": [],
   "source": [
    "# We can obviously save the logical array in its own variable and reuse it\n",
    "logical_ind_z1 = z1 > 6\n",
    "logical_ind_z1"
   ]
  },
  {
   "cell_type": "code",
   "execution_count": null,
   "metadata": {},
   "outputs": [],
   "source": [
    "# The results are the same as before\n",
    "print(z1[logical_ind_z1])\n",
    "print(z2[logical_ind_z1])"
   ]
  },
  {
   "cell_type": "markdown",
   "metadata": {},
   "source": [
    "Careful with slicing and indexing:\n",
    "- Slicing returns a view of the object --> It means that if you modify it, so will the original object\n",
    "- Indexing returns a copy of the object --> So the original array isn't modified"
   ]
  },
  {
   "cell_type": "code",
   "execution_count": null,
   "metadata": {},
   "outputs": [],
   "source": [
    "# Examples\n",
    "# - Slice an array an get a view of the object\n",
    "z1 = np.array([1, 3, 5, 7, 9])\n",
    "w = z1[0:3]\n",
    "w"
   ]
  },
  {
   "cell_type": "code",
   "execution_count": null,
   "metadata": {},
   "outputs": [],
   "source": [
    "# - Modify the view and check again the original object\n",
    "w[0] = 3\n",
    "print(w)\n",
    "print(z1)"
   ]
  },
  {
   "cell_type": "code",
   "execution_count": null,
   "metadata": {},
   "outputs": [],
   "source": [
    "# Examples\n",
    "# - Index an array\n",
    "z1 = np.array([1, 3, 5, 7, 9])\n",
    "# - Create an index array\n",
    "ind = np.array([0, 1, 2])\n",
    "# - Return a copy of the indexed array values of z1\n",
    "w = z1[ind]\n",
    "print(w)"
   ]
  },
  {
   "cell_type": "code",
   "execution_count": null,
   "metadata": {},
   "outputs": [],
   "source": [
    "# - Now try to modify the new 'w'\n",
    "w[0] = 3\n",
    "print(w)\n",
    "print(z1)\n",
    "# 'z1' keeps unmodified"
   ]
  },
  {
   "cell_type": "markdown",
   "metadata": {},
   "source": [
    "## Comprehension check"
   ]
  },
  {
   "cell_type": "code",
   "execution_count": null,
   "metadata": {},
   "outputs": [],
   "source": [
    "# Question 1\n",
    "# - Consider the following code\n",
    "a = np.array([1,2])\n",
    "b = np.array([3,4,5])\n",
    "b[a]\n",
    "\n",
    "# What does this return --> array([4, 5])"
   ]
  },
  {
   "cell_type": "code",
   "execution_count": null,
   "metadata": {},
   "outputs": [],
   "source": [
    "# Question 2\n",
    "# - Consider the following code\n",
    "c = b[1:]\n",
    "b[a] is c\n",
    "\n",
    "# What does it return? --> False, because 'c' is a view of the object and 'b[a]' is a copy of the index array values, meaning a different object "
   ]
  }
 ],
 "metadata": {
  "kernelspec": {
   "display_name": "Python 3",
   "language": "python",
   "name": "python3"
  },
  "language_info": {
   "codemirror_mode": {
    "name": "ipython",
    "version": 3
   },
   "file_extension": ".py",
   "mimetype": "text/x-python",
   "name": "python",
   "nbconvert_exporter": "python",
   "pygments_lexer": "ipython3",
   "version": "3.12.1"
  }
 },
 "nbformat": 4,
 "nbformat_minor": 2
}
