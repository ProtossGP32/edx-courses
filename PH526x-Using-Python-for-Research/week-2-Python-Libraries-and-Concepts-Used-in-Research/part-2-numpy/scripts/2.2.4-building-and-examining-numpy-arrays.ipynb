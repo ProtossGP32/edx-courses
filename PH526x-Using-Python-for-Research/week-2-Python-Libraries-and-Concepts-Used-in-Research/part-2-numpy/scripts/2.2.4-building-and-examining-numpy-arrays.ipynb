{
 "cells": [
  {
   "cell_type": "markdown",
   "metadata": {},
   "source": [
    "# Building and Examining NumPy Arrays"
   ]
  },
  {
   "cell_type": "markdown",
   "metadata": {},
   "source": [
    "## Constricting arrays of linearly spaced elements"
   ]
  },
  {
   "cell_type": "code",
   "execution_count": null,
   "metadata": {},
   "outputs": [],
   "source": [
    "import numpy as np"
   ]
  },
  {
   "cell_type": "code",
   "execution_count": null,
   "metadata": {},
   "outputs": [],
   "source": [
    "# Use the np.linspace() method to construct an array of 10 linearly spaced elements starting with 0 and ending with 100\n",
    "# - First argument: the starting point\n",
    "# - Second argument: the ending point, included\n",
    "# - Third argument: the number of points we want\n",
    "np.linspace(0, 100, 10)"
   ]
  },
  {
   "cell_type": "markdown",
   "metadata": {},
   "source": [
    "## Constructing arrays of logarithmically spaced elements"
   ]
  },
  {
   "cell_type": "code",
   "execution_count": null,
   "metadata": {},
   "outputs": [],
   "source": [
    "# Construct an average of 10 logarithmically spaced elements between 10 and 100\n",
    "# - First argument: log of the starting point --> log(10) = 1\n",
    "# - Segond argument: log of the ending point --> log(100) = 2\n",
    "# - Third argument: number of elements in our array\n",
    "np.logspace(1, 2, 10)"
   ]
  },
  {
   "cell_type": "code",
   "execution_count": null,
   "metadata": {},
   "outputs": [],
   "source": [
    "# Construct an array of ten logarighmically spaced elements between numbers 250 and 500\n",
    "np.logspace(np.log10(250), np.log10(500), 10)"
   ]
  },
  {
   "cell_type": "markdown",
   "metadata": {},
   "source": [
    "## Checking shape and size of an array"
   ]
  },
  {
   "cell_type": "code",
   "execution_count": null,
   "metadata": {},
   "outputs": [],
   "source": [
    "# Check the shape of an array\n",
    "X = np.array([[1, 2, 3], [4, 5, 6]])\n",
    "X.shape\n",
    "# It returns: (2, 3) --> 2 rows, 3 columns"
   ]
  },
  {
   "cell_type": "code",
   "execution_count": null,
   "metadata": {},
   "outputs": [],
   "source": [
    "# Check the size of an array\n",
    "X.size\n",
    "# It returns: 6 --> As in 2 rows x 3 columns = 6 elements"
   ]
  },
  {
   "cell_type": "markdown",
   "metadata": {},
   "source": [
    "## Logical conditioning on an array's values"
   ]
  },
  {
   "cell_type": "code",
   "execution_count": null,
   "metadata": {},
   "outputs": [],
   "source": [
    "# Let's create a random numpy array with 10 random number drawn fro the standard uniform distribution\n",
    "# - Meaning from 0 to 1\n",
    "x = np.random.random(10)"
   ]
  },
  {
   "cell_type": "code",
   "execution_count": null,
   "metadata": {},
   "outputs": [],
   "source": [
    "# Let's check if ANY of the randomly generated array's values are greater than 0.9\n",
    "np.any(x > 0.9)\n",
    "# The result here will vary depending on the random values"
   ]
  },
  {
   "cell_type": "code",
   "execution_count": null,
   "metadata": {},
   "outputs": [],
   "source": [
    "# Let's check if ALL of the randomly generated array's values are greater or equal than 0.1\n",
    "np.all(x >= 0.1)\n",
    "# The result here will vary depending on the random values"
   ]
  },
  {
   "cell_type": "code",
   "execution_count": null,
   "metadata": {},
   "outputs": [],
   "source": [
    "# Let's make sense of these results\n",
    "# - Print 'x' to see its values\n",
    "print(x)\n",
    "# - Print the logical operation of 'x > 0.9' --> Here we can see if there's any True value\n",
    "print(x > 0.9)\n",
    "# - Do the same with the logical operation 'x >= 0.1' --> Here we can see if ALL of them comply with the condition\n",
    "print(x >= 0.1)"
   ]
  },
  {
   "cell_type": "markdown",
   "metadata": {},
   "source": [
    "## Comprehension check"
   ]
  },
  {
   "cell_type": "code",
   "execution_count": null,
   "metadata": {},
   "outputs": [],
   "source": [
    "# Question 1\n",
    "x = 20\n",
    "print([x%i == 0 for i in range(2, x)])\n",
    "not np.any([x%i == 0 for i in range(2, x)])\n",
    "# This code checks whether 'x' is a prime number\n",
    "# - First computes the result of dividing itself by the range of numbers between 2 and itself, excluded.\n",
    "# - If any of the divisions is true, then it is not a prime number\n",
    "# - The code returns the contrary of this, so True means prime, False means not prime"
   ]
  },
  {
   "cell_type": "code",
   "execution_count": null,
   "metadata": {},
   "outputs": [],
   "source": []
  }
 ],
 "metadata": {
  "kernelspec": {
   "display_name": "Python 3",
   "language": "python",
   "name": "python3"
  },
  "language_info": {
   "codemirror_mode": {
    "name": "ipython",
    "version": 3
   },
   "file_extension": ".py",
   "mimetype": "text/x-python",
   "name": "python",
   "nbconvert_exporter": "python",
   "pygments_lexer": "ipython3",
   "version": "3.12.1"
  }
 },
 "nbformat": 4,
 "nbformat_minor": 2
}
