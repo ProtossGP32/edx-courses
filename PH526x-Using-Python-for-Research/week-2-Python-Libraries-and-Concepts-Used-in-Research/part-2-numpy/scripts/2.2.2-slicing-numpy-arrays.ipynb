{
 "cells": [
  {
   "cell_type": "markdown",
   "metadata": {},
   "source": [
    "# Slicing NumPy Arrays"
   ]
  },
  {
   "cell_type": "markdown",
   "metadata": {},
   "source": [
    "Let's practice some array indexing and slicing:"
   ]
  },
  {
   "cell_type": "code",
   "execution_count": null,
   "metadata": {},
   "outputs": [],
   "source": [
    "import numpy as np\n",
    "\n",
    "# Initialize some arrays\n",
    "x = np.array([1, 2, 3])\n",
    "y = np.array([2, 4, 6])\n",
    "X = np.array([[1, 2, 3], [2, 4, 6]])\n",
    "Y = np.array([[2, 4, 6], [8, 10, 12]])"
   ]
  },
  {
   "cell_type": "code",
   "execution_count": null,
   "metadata": {},
   "outputs": [],
   "source": [
    "# Accessing values of a one-dimensional array\n",
    "x[2]"
   ]
  },
  {
   "cell_type": "code",
   "execution_count": null,
   "metadata": {},
   "outputs": [],
   "source": [
    "# Slicing one-dimensional arrays\n",
    "x[:2]"
   ]
  },
  {
   "cell_type": "code",
   "execution_count": null,
   "metadata": {},
   "outputs": [],
   "source": [
    "# Algebraic operations: sum two vectors of the same length\n",
    "z = x + y\n",
    "z"
   ]
  },
  {
   "cell_type": "code",
   "execution_count": null,
   "metadata": {},
   "outputs": [],
   "source": [
    "# Accessing values of 2-dimensional arrays\n",
    "# - For all rows (`:`), return the value in index `1`\n",
    "X[:,1]\n",
    "# The returned value is also a NumPy array"
   ]
  },
  {
   "cell_type": "code",
   "execution_count": null,
   "metadata": {},
   "outputs": [],
   "source": [
    "# Slicing values of 2-dimensional arrays\n",
    "# - Same as before, define the ranges of the slices for each dimension\n",
    "# - Rows: from the second row until the end\n",
    "# - Columns: from the start up to the index 2 (not included)\n",
    "Y[1:, :2]\n",
    "# This shall return values from Y[1,0] and Y[1,1]"
   ]
  },
  {
   "cell_type": "code",
   "execution_count": null,
   "metadata": {},
   "outputs": [],
   "source": [
    "# Algebraic operations: sum two arrays of the same length\n",
    "# - Take index 1 colum of all rows for X and Y and sum them\n",
    "X[:, 1] + Y[:, 1]"
   ]
  },
  {
   "cell_type": "markdown",
   "metadata": {},
   "source": [
    "## Comprehension check"
   ]
  },
  {
   "cell_type": "code",
   "execution_count": null,
   "metadata": {},
   "outputs": [],
   "source": [
    "# Question 1\n",
    "x = np.array([1,2,5])\n",
    "x[1:2]\n",
    "\n",
    "# What does this return?"
   ]
  },
  {
   "cell_type": "code",
   "execution_count": null,
   "metadata": {},
   "outputs": [],
   "source": [
    "# Question 2\n",
    "# Consider the following code\n",
    "a = np.array([1,2])\n",
    "b = np.array([3,4,5])\n",
    "a + b\n",
    "\n",
    "# What does this return?\n",
    "# - This code contains an error: length of a is different from b"
   ]
  }
 ],
 "metadata": {
  "kernelspec": {
   "display_name": "Python 3",
   "language": "python",
   "name": "python3"
  },
  "language_info": {
   "codemirror_mode": {
    "name": "ipython",
    "version": 3
   },
   "file_extension": ".py",
   "mimetype": "text/x-python",
   "name": "python",
   "nbconvert_exporter": "python",
   "pygments_lexer": "ipython3",
   "version": "3.12.1"
  }
 },
 "nbformat": 4,
 "nbformat_minor": 2
}
