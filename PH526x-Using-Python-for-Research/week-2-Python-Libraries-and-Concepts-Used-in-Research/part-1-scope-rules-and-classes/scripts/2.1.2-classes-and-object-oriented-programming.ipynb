{
 "cells": [
  {
   "cell_type": "markdown",
   "metadata": {},
   "source": [
    "# Classes and Object-Oriented Programming"
   ]
  },
  {
   "cell_type": "markdown",
   "metadata": {},
   "source": [
    "## Class"
   ]
  },
  {
   "cell_type": "code",
   "execution_count": null,
   "metadata": {},
   "outputs": [],
   "source": [
    "# Let's create a class with some attributes\n",
    "# - Attributes are commonly managed with 'setters' and 'getters' instead of directly accessing the attributes\n",
    "# - Remember to refer to the class instance as the first argument of each instance method\n",
    "class Animal():\n",
    "  def set_name(self, name):\n",
    "    self.name = name\n",
    "  \n",
    "  def get_name(self):\n",
    "    return self.name\n",
    "  \n",
    "# Now let's create an instance of the Animal class\n",
    "dog = Animal()\n",
    "dog.set_name(\"Pochi\")\n",
    "dog.get_name()"
   ]
  },
  {
   "cell_type": "markdown",
   "metadata": {},
   "source": [
    "## Inheritance"
   ]
  },
  {
   "cell_type": "code",
   "execution_count": null,
   "metadata": {},
   "outputs": [],
   "source": [
    "# Let's create a new class that inherits from the built-in list class\n",
    "class MyList(list):\n",
    "  # We can expand the class methods\n",
    "  # - A method that removes the minimum value of the list\n",
    "  def remove_min(self):\n",
    "    self.remove(min(self))\n",
    "\n",
    "  # - A method that removes the maximum value of the list\n",
    "  def remove_max(self):\n",
    "    self.remove(max(self))\n",
    "\n",
    "# Let's test it: first create a list\n",
    "x = [10, 3, 5, 1, 2, 7, 6, 4, 8]\n",
    "# Initialize a new MyList instance using the previous list as input\n",
    "y = MyList(x)\n",
    "\n",
    "# Now test the instance methods\n",
    "y.remove_min()\n",
    "y.remove_max()\n",
    "# Print again the instance, both values '1' and '10' should have been removed\n",
    "y"
   ]
  },
  {
   "cell_type": "code",
   "execution_count": null,
   "metadata": {},
   "outputs": [],
   "source": [
    "# Remember that you can access the instance methods with the dir() function\n",
    "dir(MyList)"
   ]
  },
  {
   "cell_type": "markdown",
   "metadata": {},
   "source": [
    "## Comprehension check"
   ]
  },
  {
   "cell_type": "code",
   "execution_count": null,
   "metadata": {},
   "outputs": [],
   "source": [
    "# Question 1:\n",
    "\n",
    "class NewList(list):\n",
    "  def remove_max(self):\n",
    "    self.remove(max(self))\n",
    "  def append_sum(self):\n",
    "    self.append(sum(self))\n",
    "\n",
    "x = NewList([1,2,3])\n",
    "while max(x) < 10:\n",
    "  x.remove_max()\n",
    "  x.append_sum()\n",
    "\n",
    "print(x)\n",
    "\n",
    "# What will this print?\n",
    "# - Nothing: this program will never halt --> It always removes the value '3' and appends '1 + 2 = 3', so it's an infinite loop"
   ]
  },
  {
   "cell_type": "code",
   "execution_count": null,
   "metadata": {},
   "outputs": [],
   "source": []
  }
 ],
 "metadata": {
  "kernelspec": {
   "display_name": "Python 3",
   "language": "python",
   "name": "python3"
  },
  "language_info": {
   "codemirror_mode": {
    "name": "ipython",
    "version": 3
   },
   "file_extension": ".py",
   "mimetype": "text/x-python",
   "name": "python",
   "nbconvert_exporter": "python",
   "pygments_lexer": "ipython3",
   "version": "3.12.1"
  }
 },
 "nbformat": 4,
 "nbformat_minor": 2
}
