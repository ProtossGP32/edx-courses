{
 "cells": [
  {
   "cell_type": "markdown",
   "metadata": {},
   "source": [
    "# Scope Rules"
   ]
  },
  {
   "cell_type": "markdown",
   "metadata": {},
   "source": [
    "Let's put the scope rules at test:"
   ]
  },
  {
   "cell_type": "code",
   "execution_count": null,
   "metadata": {},
   "outputs": [],
   "source": [
    "# Define a simple function\n",
    "def update():\n",
    "  x.append(1)\n",
    "\n",
    "# This fails as x is not defined. The output error is \"name 'x' is not defined\"\n",
    "update()"
   ]
  },
  {
   "cell_type": "code",
   "execution_count": null,
   "metadata": {},
   "outputs": [],
   "source": [
    "#Now let's add a list named x in the Global scope\n",
    "x = [1, 1]\n",
    "update()\n",
    "# The function now can access the object 'x' as it is previously declared in the 'G'lobal scope\n",
    "x"
   ]
  },
  {
   "cell_type": "markdown",
   "metadata": {},
   "source": [
    "## Scope rules, mutability and immutability of Python objects\n",
    "Let's write two short functions:"
   ]
  },
  {
   "cell_type": "code",
   "execution_count": null,
   "metadata": {},
   "outputs": [],
   "source": [
    "# Update function\n",
    "def update(n, x):\n",
    "  n = 2\n",
    "  x.append(4)\n",
    "  print(f\"update: {n} {x}\")\n",
    "\n",
    "# Main function\n",
    "def main():\n",
    "  n = 1\n",
    "  x = [0, 1, 2, 3]\n",
    "  print(f\"main: {n} {x}\")\n",
    "  # Call the update function\n",
    "  update(n, x)\n",
    "  print(f\"main after update: {n} {x}\")\n",
    "\n",
    "# Call the main function\n",
    "main()"
   ]
  },
  {
   "cell_type": "markdown",
   "metadata": {},
   "source": [
    "The update function takes variable names as inputs, so the variable nature is important:\n",
    "- `update` creates its own local `n` variable and replaces its value with `2` regardless of the `n` value provided on call time. The modification won't persist outside the function because `n` is an **immutable object**\n",
    "- `update` also appends an arbitrary value `4` to the list `x` (it isn't creating a new object as we've provided the `x` reference to the **mutable object**)"
   ]
  },
  {
   "cell_type": "markdown",
   "metadata": {},
   "source": [
    "## Comprehension check"
   ]
  },
  {
   "cell_type": "code",
   "execution_count": null,
   "metadata": {},
   "outputs": [],
   "source": [
    "# Question 1\n",
    "def increment(n):\n",
    "  n += 1\n",
    "  print(n)\n",
    "\n",
    "n = 1\n",
    "increment(n)\n",
    "print(n)\n",
    "\n",
    "# What will this print?\n",
    "# 2; 1"
   ]
  },
  {
   "cell_type": "code",
   "execution_count": null,
   "metadata": {},
   "outputs": [],
   "source": [
    "# Question 2\n",
    "def increment(n):\n",
    "  n += 1\n",
    "  ## Fill in the #blank# to ensure this prints 10\n",
    "  #blank#\n",
    "  return n\n",
    "\n",
    "n = 1\n",
    "while n < 10:\n",
    "  n = increment(n)\n",
    "print(n)\n"
   ]
  }
 ],
 "metadata": {
  "kernelspec": {
   "display_name": "Python 3",
   "language": "python",
   "name": "python3"
  },
  "language_info": {
   "codemirror_mode": {
    "name": "ipython",
    "version": 3
   },
   "file_extension": ".py",
   "mimetype": "text/x-python",
   "name": "python",
   "nbconvert_exporter": "python",
   "pygments_lexer": "ipython3",
   "version": "3.12.1"
  }
 },
 "nbformat": 4,
 "nbformat_minor": 2
}
